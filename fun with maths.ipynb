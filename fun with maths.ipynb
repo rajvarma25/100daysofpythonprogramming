{
 "cells": [
  {
   "cell_type": "code",
   "execution_count": 1,
   "id": "7aa06511",
   "metadata": {},
   "outputs": [
    {
     "name": "stdout",
     "output_type": "stream",
     "text": [
      "Enter the number a:1\n",
      "Enter the number b:4\n",
      "Enter the number c:4\n",
      "The roots of following quadratic equation is :-2.0,-2.0\n"
     ]
    }
   ],
   "source": [
    "import math\n",
    "\n",
    "\n",
    "\n",
    "a=int(input(\"Enter the number a:\"))\n",
    "b=int(input(\"Enter the number b:\"))\n",
    "c=int(input(\"Enter the number c:\"))\n",
    "\n",
    "dis=math.sqrt(b**2-4*a*c)\n",
    "\n",
    "r1=str((-b+dis)/2*a)\n",
    "r2=str((-b-dis)/2*a)\n",
    "\n",
    "answer=print(\"The roots of following quadratic equation is :\" +r1+\",\"+r2)"
   ]
  },
  {
   "cell_type": "code",
   "execution_count": 2,
   "id": "8c3e440d",
   "metadata": {},
   "outputs": [
    {
     "name": "stdout",
     "output_type": "stream",
     "text": [
      "Enter the number:12\n",
      "Enter the number:23\n",
      "The solution of the pythagorus theorem is:673\n"
     ]
    }
   ],
   "source": [
    "import math\n",
    "\n",
    "a = int(input(\"Enter the number:\"))\n",
    "b = int(input(\"Enter the number:\"))\n",
    "\n",
    "pyt=str(a**2+b**2)\n",
    "\n",
    "print(\"The solution of the pythagorus theorem is:\"+ pyt)"
   ]
  },
  {
   "cell_type": "code",
   "execution_count": 2,
   "id": "b0a00e80",
   "metadata": {},
   "outputs": [
    {
     "name": "stdout",
     "output_type": "stream",
     "text": [
      "150th ugly no. is  5832\n"
     ]
    }
   ],
   "source": [
    "# Python3 code to find nth ugly number\n",
    "\n",
    "# This function divides a by greatest\n",
    "# divisible power of b\n",
    "\n",
    "\n",
    "def maxDivide(a, b):\n",
    "\twhile a % b == 0:\n",
    "\t\ta = a / b\n",
    "\treturn a\n",
    "\n",
    "# Function to check if a number\n",
    "# is ugly or not\n",
    "def isUgly(no):\n",
    "\tno = maxDivide(no, 2)\n",
    "\tno = maxDivide(no, 3)\n",
    "\tno = maxDivide(no, 5)\n",
    "\treturn 1 if no == 1 else 0\n",
    "\n",
    "# Function to get the nth ugly number\n",
    "def getNthUglyNo(n):\n",
    "\ti = 1\n",
    "\t\n",
    "\t# ugly number count\n",
    "\tcount = 1\n",
    "\n",
    "\t# Check for all integers until\n",
    "\t# ugly count becomes n\n",
    "\twhile n > count:\n",
    "\t\ti += 1\n",
    "\t\tif isUgly(i):\n",
    "\t\t\tcount += 1\n",
    "\treturn i\n",
    "\n",
    "\n",
    "# Driver code\n",
    "no = getNthUglyNo(150)\n",
    "print(\"150th ugly no. is \", no)\n",
    "\n",
   
   ]
  },
  {
   "cell_type": "code",
   "execution_count": 16,
   "id": "f87ff732",
   "metadata": {},
   "outputs": [
    {
     "name": "stdout",
     "output_type": "stream",
     "text": [
      "Find the probality of 3 dice with different combination ? \n",
      "Enter the the DICE 1 number:1\n",
      "Enter the the DICE 2 number:2\n",
      "Enter the the DICE 3 number:3\n",
      "Inputs are wrong . It should be less than 6\n"
     ]
    }
   ],
   "source": [
    "\n",
    "print(\"Find the probality of 3 dice with different combination ? \")\n",
    " \n",
    "a=int(input(\"Enter the the DICE 1 number:\"))\n",
    "b=int(input(\"Enter the the DICE 2 number:\"))\n",
    "c=int(input(\"Enter the the DICE 3 number:\"))\n",
    "\n",
    "\n",
    "if (a>6,b>6,c>6):\n",
    "    print(\"Inputs are wrong . It should be less than 6\")\n",
    "    \n",
    "elif (a==b,a==c,b==c):\n",
    "    prob=(3)/6**3\n",
    "    print(prob)\n",
    "else:\n",
    "     probi=(1)/6**3\n",
    "     print(prob)    "
   ]
  },
  {
   "cell_type": "code",
   "execution_count": 51,
   "id": "73752650",
   "metadata": {},
   "outputs": [],
   "source": [
    "def dis(price, discount):\n",
    "    a=int(price*discount)\n",
    "    dis=(price)-(a/100)\n",
    "dis(100,75)    \n",
    "   "
   ]
  },
  {
   "cell_type": "code",
   "execution_count": 6,
   "id": "99a91a7a",
   "metadata": {},
   "outputs": [],
   "source": [
    "dis(100,75) "
   ]
  },
  {
   "cell_type": "code",
   "execution_count": 22,
   "id": "41f7696e",
   "metadata": {},
   "outputs": [],
   "source": [
    "a = 8\n",
    "while a < 0:\n",
    "    a = a - 1\n",
    "    print(a)"
   ]
  },
  {
   "cell_type": "code",
   "execution_count": 28,
   "id": "c48477a3",
   "metadata": {},
   "outputs": [
    {
     "name": "stdout",
     "output_type": "stream",
     "text": [
      "2\n",
      "4\n",
      "6\n",
      "8\n",
      "10\n",
      "12\n",
      "14\n",
      "16\n",
      "18\n",
      "20\n",
      "22\n",
      "24\n",
      "26\n",
      "28\n"
     ]
    }
   ],
   "source": [
    "for i in range(2,30,2):\n",
    "    print(i)"
   ]
  },
  {
   "cell_type": "code",
   "execution_count": 38,
   "id": "586568f5",
   "metadata": {},
   "outputs": [
    {
     "name": "stdout",
     "output_type": "stream",
     "text": [
      "\n",
      "1\n",
      "22\n",
      "333\n"
     ]
    }
   ],
   "source": [
    "for i in range(4):\n",
    "    for j in range(i):\n",
    "        print (i,end=\"\")\n",
    "    print()"
   ]
  },
  {
   "cell_type": "code",
   "execution_count": 46,
   "id": "542198f5",
   "metadata": {},
   "outputs": [
    {
     "name": "stdout",
     "output_type": "stream",
     "text": [
      "21\n",
      "20\n",
      "19\n",
      "18\n",
      "17\n",
      "16\n",
      "15\n",
      "14\n",
      "13\n",
      "12\n",
      "11\n",
      "10\n",
      "9\n",
      "8\n",
      "7\n",
      "6\n"
     ]
    }
   ],
   "source": [
    "i=22\n",
    "while i>6:\n",
    "    i=i-1\n",
    "    print(i)"
   ]
  },
  {
   "cell_type": "code",
   "execution_count": 3,
   "id": "c0cc653f",
   "metadata": {},
   "outputs": [
    {
     "name": "stdout",
     "output_type": "stream",
     "text": [
      "4\n",
      "3\n"
     ]
    }
   ],
   "source": [
    "i=5\n",
    "while i>3:\n",
    "    i=i-1\n",
    "    print(i)"
   ]
  },
  {
   "cell_type": "code",
   "execution_count": 6,
   "id": "9afdbaa4",
   "metadata": {},
   "outputs": [
    {
     "name": "stdout",
     "output_type": "stream",
     "text": [
      "1\n",
      "3\n",
      "5\n",
      "7\n",
      "9\n",
      "11\n",
      "13\n",
      "15\n",
      "17\n",
      "19\n"
     ]
    }
   ],
   "source": [
    "for i in range(1,20,2):\n",
    "    print(i)"
   ]
  },
  {
   "cell_type": "code",
   "execution_count": 8,
   "id": "d59d2ec9",
   "metadata": {},
   "outputs": [
    {
     "name": "stdout",
     "output_type": "stream",
     "text": [
      "1\n",
      "2\n",
      "3\n",
      "4\n",
      "5\n",
      "6\n",
      "7\n",
      "8\n",
      "9\n",
      "10\n",
      "11\n",
      "12\n",
      "13\n",
      "14\n",
      "15\n",
      "16\n",
      "17\n",
      "18\n",
      "19\n",
      "20\n"
     ]
    }
   ],
   "source": [
    "for i in range(1,21):\n",
    "    print(i)"
   ]
  },
  {
   "cell_type": "code",
   "execution_count": 10,
   "id": "de802950",
   "metadata": {},
   "outputs": [
    {
     "name": "stdout",
     "output_type": "stream",
     "text": [
      "\n",
      "1\n",
      "22\n",
      "333\n",
      "4444\n",
      "55555\n",
      "666666\n",
      "7777777\n",
      "88888888\n",
      "999999999\n",
      "10101010101010101010\n",
      "1111111111111111111111\n",
      "121212121212121212121212\n",
      "13131313131313131313131313\n",
      "1414141414141414141414141414\n",
      "151515151515151515151515151515\n",
      "16161616161616161616161616161616\n",
      "1717171717171717171717171717171717\n",
      "181818181818181818181818181818181818\n",
      "19191919191919191919191919191919191919\n",
      "2020202020202020202020202020202020202020\n",
      "212121212121212121212121212121212121212121\n",
      "22222222222222222222222222222222222222222222\n",
      "2323232323232323232323232323232323232323232323\n",
      "242424242424242424242424242424242424242424242424\n",
      "25252525252525252525252525252525252525252525252525\n",
      "2626262626262626262626262626262626262626262626262626\n",
      "272727272727272727272727272727272727272727272727272727\n",
      "28282828282828282828282828282828282828282828282828282828\n",
      "2929292929292929292929292929292929292929292929292929292929\n",
      "303030303030303030303030303030303030303030303030303030303030\n",
      "31313131313131313131313131313131313131313131313131313131313131\n",
      "3232323232323232323232323232323232323232323232323232323232323232\n",
      "333333333333333333333333333333333333333333333333333333333333333333\n",
      "34343434343434343434343434343434343434343434343434343434343434343434\n",
      "3535353535353535353535353535353535353535353535353535353535353535353535\n",
      "363636363636363636363636363636363636363636363636363636363636363636363636\n",
      "37373737373737373737373737373737373737373737373737373737373737373737373737\n",
      "3838383838383838383838383838383838383838383838383838383838383838383838383838\n",
      "393939393939393939393939393939393939393939393939393939393939393939393939393939\n",
      "40404040404040404040404040404040404040404040404040404040404040404040404040404040\n",
      "4141414141414141414141414141414141414141414141414141414141414141414141414141414141\n",
      "424242424242424242424242424242424242424242424242424242424242424242424242424242424242\n",
      "43434343434343434343434343434343434343434343434343434343434343434343434343434343434343\n",
      "4444444444444444444444444444444444444444444444444444444444444444444444444444444444444444\n",
      "454545454545454545454545454545454545454545454545454545454545454545454545454545454545454545\n",
      "46464646464646464646464646464646464646464646464646464646464646464646464646464646464646464646\n",
      "4747474747474747474747474747474747474747474747474747474747474747474747474747474747474747474747\n",
      "484848484848484848484848484848484848484848484848484848484848484848484848484848484848484848484848\n",
      "49494949494949494949494949494949494949494949494949494949494949494949494949494949494949494949494949\n"
     ]
    }
   ],
   "source": [
    "for i in range(50):\n",
    "    for j in range(i):\n",
    "        print(i,end=\"\")\n",
    "    print()    "
   ]
  },
  {
   "cell_type": "code",
   "execution_count": 14,
   "id": "3a5b18b0",
   "metadata": {},
   "outputs": [
    {
     "name": "stdout",
     "output_type": "stream",
     "text": [
      "[22.5, 't', 54.6, 'v', 67.8]\n",
      "['r']\n",
      "[67.8]\n",
      "['r', 22.5, 't', 54.6, 'v']\n",
      "['t', 54.6, 'v', 67.8]\n",
      "['r', 22.5]\n",
      "['v', 67.8]\n",
      "['r', 22.5, 't', 54.6]\n",
      "[22.5]\n",
      "[]\n",
      "[]\n",
      "['v']\n"
     ]
    }
   ],
   "source": [
    "a = [\"r\",22.5,\"t\",54.6,\"v\",67.8]\n",
    "print(a[1:])\n",
    "print(a[:1])\n",
    "print(a[-1:])\n",
    "print(a[:-1])\n",
    "print(a[2:])\n",
    "print(a[:2])\n",
    "print(a[-2:])\n",
    "print(a[:-2])\n",
    "print(a[1:2])\n",
    "print(a[2:1])\n",
    "print(a[-1:-2])\n",
    "print(a[-2:-1])"
   ]
  },
  {
   "cell_type": "code",
   "execution_count": 19,
   "id": "c558b3b6",
   "metadata": {},
   "outputs": [
    {
     "name": "stdout",
     "output_type": "stream",
     "text": [
      "\n",
      "1\n",
      "2222\n",
      "333333333\n",
      "4444444444444444\n",
      "5555555555555555555555555\n"
     ]
    }
   ],
   "source": [
    "for i in range(6):\n",
    "    for j in range(i):\n",
    "        for k in range(i):\n",
    "            print(i,end=\"\")\n",
    "    print()    "
   ]
  },
  {
   "cell_type": "code",
   "execution_count": 30,
   "id": "0da405a5",
   "metadata": {},
   "outputs": [
    {
     "name": "stdout",
     "output_type": "stream",
     "text": [
      "[1, 2, 3, 4, 5, 6, 7, 8, 9]\n",
      "<class 'list'>\n",
      "[1, 2, 3, 4, 5, 6, 7, 8, 9, 25, 'i love you']\n",
      "0\n",
      "1\n",
      "2\n",
      "3\n",
      "4\n",
      "9\n",
      "8\n",
      "7\n",
      "6\n",
      "5\n"
     ]
    }
   ],
   "source": [
    "i=[1,2,3,4,5,6,7,8,9]\n",
    "print(i)\n",
    "add=i+[25]+[\"i love you\"]\n",
    "t=type(i)\n",
    "print(t)\n",
    "print(add)\n",
    "for i in range(5):\n",
    "    print(i)\n",
    "i=10\n",
    "while i>5:\n",
    "    i -= 1\n",
    "    print(i)"
   ]
  },
  {
   "cell_type": "code",
   "execution_count": 1,
   "id": "2b099f32",
   "metadata": {},
   "outputs": [
    {
     "name": "stdout",
     "output_type": "stream",
     "text": [
      "The new created array is :  "
     ]
    }
   ],
   "source": [
    "import array as arr\n",
    "\n",
    "a = arr.array('i',[1,2,3])\n",
    "\n",
    "print (\"The new created array is : \", end =\" \")"
   ]
  },
  {
   "cell_type": "code",
   "execution_count": 5,
   "id": "28f48d18",
   "metadata": {},
   "outputs": [
    {
     "name": "stdout",
     "output_type": "stream",
     "text": [
      "The new created array is :  1 2 3 "
     ]
    }
   ],
   "source": [
    "import array as arr\n",
    "\n",
    "a = arr.array('i',[1,2,3])\n",
    "\n",
    "print (\"The new created array is : \", end =\" \")\n",
    "\n",
    "for i in range (0, 3):\n",
    "    print (a[i], end =\" \")\n"
   ]
  },
  {
   "cell_type": "code",
   "execution_count": 13,
   "id": "591ff345",
   "metadata": {},
   "outputs": [
    {
     "name": "stdout",
     "output_type": "stream",
     "text": [
      "The new created array is :  1 2 3 4 "
     ]
    }
   ],
   "source": [
    "import array as arr\n",
    "\n",
    "a = arr.array('i',[1,2,3,4,5,6])\n",
    "\n",
    "print (\"The new created array is : \", end =\" \")\n",
    "\n",
    "for i in range (0, 4):\n",
    "    print (a[i], end =\" \")"
   ]
  },
  {
   "cell_type": "code",
   "execution_count": 24,
   "id": "7444f699",
   "metadata": {},
   "outputs": [
    {
     "name": "stdout",
     "output_type": "stream",
     "text": [
      "the new created array is :  12345\n",
      "1 12 2 3 4 5 6 7 8 9 \n",
      "1 12 2 3 4 5 6 7 8 9 13 \n"
     ]
    }
   ],
   "source": [
    "import array as arr\n",
    "\n",
    "a = arr.array('i',[1,2,3,4,5,6,7,8,9])\n",
    "\n",
    "print(\"the new created array is : \",end =\" \")\n",
    "\n",
    "for i in range (0,5):\n",
    "    print (a[i],end=\"\")\n",
    "print()    \n",
    "a.insert(1,12)\n",
    "for i in (a):\n",
    "    print(i,end=\" \")\n",
    "print()\n",
    "a.append(13)\n",
    "for i in (a):\n",
    "    print(i,end=\" \")\n",
    "print()    "
   ]
  },
  {
   "cell_type": "code",
   "execution_count": 19,
   "id": "174a840b",
   "metadata": {},
   "outputs": [
    {
     "name": "stdout",
     "output_type": "stream",
     "text": [
      "The selected array is: 1\n",
      "All elements of array: 123\r\n",
      "the popped element:3\n",
      "the array element is removed: 2 4 5 6 7 8 2 4 23 5 6 7 8 9 \n"
     ]
    }
   ],
   "source": [
    "import array as arr\n",
    "\n",
    "a = arr.array('i',[1,2,3,4,5,6,7,8,9])\n",
    "\n",
    "print(\"The selected array is:\",a[0])\n",
    "\n",
    "print(\"All elements of array:\",end =\" \")\n",
    "\n",
    "for i in range(0,3):\n",
    "    print(a[i],end=\"\")\n",
    "print(\"\\r\")    \n",
    "\n",
    "#showing special element by popping\n",
    "\n",
    "print(\"the popped element:\",end=\"\")\n",
    "print(a.pop(2))\n",
    "\n",
    "#removing one element from array\n",
    "a.remove(1)\n",
    "print(\"the array element is removed:\",end=\" \")\n",
    "for i in range(0,6):\n",
    "    print(a[i],end=\" \")\n",
    "\n",
    "\n",
    "#inserting of element\n",
    "a.insert(2,23)\n",
    "\n",
    "print(\"The \")\n",
    "for i in (a):\n",
    "    print(i,end=\" \")\n",
    "print()    \n",
    "\n"
   ]
  },
  {
   "cell_type": "code",
   "execution_count": 18,
   "id": "e0e12724",
   "metadata": {},
   "outputs": [
    {
     "name": "stdout",
     "output_type": "stream",
     "text": [
      "57.3\n"
     ]
    },
    {
     "data": {
      "text/plain": [
       "2865.0"
      ]
     },
     "execution_count": 18,
     "metadata": {},
     "output_type": "execute_result"
    }
   ],
   "source": [
    "from math import pi\n",
    "\n",
    "picon = round((180/pi),1)\n",
    "print(picon)\n",
    "\n",
    "def rad_deg(rad):\n",
    "    return rad*picon\n",
    "    \n",
    "rad_deg(50)    "
   ]
  },
  {
   "cell_type": "code",
   "execution_count": 6,
   "id": "2afddecb",
   "metadata": {},
   "outputs": [
    {
     "name": "stdout",
     "output_type": "stream",
     "text": [
      "Array created using passed list:\n",
      " [[1. 2. 4.]\n",
      " [5. 8. 7.]]\n",
      "Array dimession of list: 2\n"
     ]
    }
   ],
   "source": [
    "import numpy\n",
    "  \n",
    "# Creating array from list with type float\n",
    "a = numpy.array([[1, 2, 4], [5, 8, 7]], dtype = 'float')\n",
    "print (\"Array created using passed list:\\n\", a)\n",
    "ab = numpy.ndim(a)\n",
    "print(\"Array dimession of list:\", ab)"
   ]
  },
  {
   "cell_type": "code",
   "execution_count": 3,
   "id": "1877885f",
   "metadata": {},
   "outputs": [
    {
     "data": {
      "image/png": "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\n",
      "text/plain": [
       "<Figure size 432x288 with 1 Axes>"
      ]
     },
     "metadata": {
      "needs_background": "light"
     },
     "output_type": "display_data"
    }
   ],
   "source": [
    "import matplotlib.pyplot as plt\n",
    "import numpy as np\n",
    "\n",
    "xpoints = np.array([0,2,3,4,6])\n",
    "ypoints = np.array([0,25,50,100, 250])\n",
    "\n",
    "plt.plot(xpoints, ypoints)\n",
    "plt.show()"
   ]
  },
  {
   "cell_type": "code",
   "execution_count": 10,
   "id": "24988eee",
   "metadata": {},
   "outputs": [
    {
     "data": {
      "image/png": "iVBORw0KGgoAAAANSUhEUgAAAXAAAAD4CAYAAAD1jb0+AAAAOXRFWHRTb2Z0d2FyZQBNYXRwbG90bGliIHZlcnNpb24zLjQuMywgaHR0cHM6Ly9tYXRwbG90bGliLm9yZy/MnkTPAAAACXBIWXMAAAsTAAALEwEAmpwYAAAM40lEQVR4nO3dXWhkdxnH8d/PZNVsVbayo7jZYipIVIqSMkhtQaXbklWr3QsvWm2pVVgEtVUk2uhFbwsRsRdSCNsXwaVerGEtoqbFF0TQpbObwraN8aVqm+zqjkhUNLAvPl5ktk2yL5mZc5KTJ/l+YEnmn8mch8Pmy+TMORlHhAAA+byq6gEAAN0h4ACQFAEHgKQIOAAkRcABIKne9dzYzp07Y2BgYD03CQDpHT169O8RUVu5vq4BHxgYUKPRWM9NAkB6tv9ysXUOoQBAUgQcAJIi4ACQFAEHgKQIOAAktepZKLYfkXSLpFMRcU1rbUzSRyWdlvRHSXdHxPwazgkAKR2emtPY5IxOzC9o144+jQwPat9QfymP3c4z8Mck7V2x9pSkayLi3ZJ+J2m0lGkAYBM5PDWn0YnjmptfUEiam1/Q6MRxHZ6aK+XxVw14RPxS0j9WrD0ZEWdbN38jaXcp0wDAJjI2OaOFM+eWrS2cOaexyZlSHr+MY+CflvTjS33R9n7bDduNZrNZwuYAIIcT8wsdrXeqUMBtf13SWUkHL3WfiBiPiHpE1Gu1C64EBYBNa9eOvo7WO9V1wG3fpcUXNz8ZvK0PAFxgZHhQfdt6lq31bevRyPBgKY/f1d9Csb1X0lclfSAi/lvKJACwyZw/22StzkJp5zTCxyV9UNJO27OS7tfiWSevkfSUbUn6TUR8tpSJAGAT2TfUX1qwV1o14BFx+0WWH16DWQAAHeBKTABIioADQFIEHACSIuAAkBQBB4CkCDgAJEXAASApAg4ASRFwAEiKgANAUgQcAJIi4ACQFAEHgKQIOAAkRcABICkCDgBJEXAASIqAA0BSBBwAkiLgAJAUAQeApAg4ACRFwAEgKQIOAEmtGnDbj9g+ZfvZJWtvtP2U7d+3Pl65tmMCAFZq5xn4Y5L2rli7T9JPI+Ltkn7aug0AWEerBjwifinpHyuWb5X0ndbn35G0r9yxAACr6fYY+Jsj4qQktT6+6VJ3tL3fdsN2o9lsdrk5AMBKa/4iZkSMR0Q9Iuq1Wm2tNwcAW0a3Af+b7bdIUuvjqfJGAgC0o9uAPyHprtbnd0n6QTnjAADa1c5phI9L+rWkQduztj8j6QFJN9v+vaSbW7cBAOuod7U7RMTtl/jSnpJnAQB0gCsxASApAg4ASRFwAEiKgANAUgQcAJIi4ACQFAEHgKQIOAAkRcABICkCDgBJEXAASIqAA0BSBBwAkiLgAJAUAQeApAg4ACRFwAEgKQIOAEkRcABIioADQFIEHACSIuAAkBQBB4CkCDgAJFUo4La/ZPs528/aftz2a8saDABweV0H3Ha/pHsk1SPiGkk9km4razAAwOUVPYTSK6nPdq+k7ZJOFB8JANCOrgMeEXOSviHpRUknJf0zIp5ceT/b+203bDeazWb3kwIAlilyCOVKSbdKulrSLklX2L5j5f0iYjwi6hFRr9Vq3U8KAFimyCGUmyT9KSKaEXFG0oSk68sZCwCwmiIBf1HSdba327akPZKmyxkLALCaIsfAj0g6JOmYpOOtxxovaS4AwCp6i3xzRNwv6f6SZgEAdIArMQEgKQIOAEkRcABIioADQFIEHACSIuAAkBQBB4CkCDgAJFXoQh4A0uGpOY1NzujE/IJ27ejTyPCg9g31Vz0WtgACDhRweGpOoxPHtXDmnCRpbn5BoxPHJYmIY81xCAUoYGxy5uV4n7dw5pzGJmcqmghbCQEHCjgxv9DROlAmAg4UsGtHX0frQJkIOFDAyPCg+rb1LFvr29ajkeHBiibCVsKLmEAB51+o5CwUVIGAAwXtG+on2KgEh1AAICkCDgBJEXAASIqAA0BSBBwAkiLgAJAUAQeApAg4ACRVKOC2d9g+ZPu3tqdtv6+swQAAl1f0SswHJf0kIj5u+9WStpcwEwCgDV0H3PYbJL1f0qckKSJOSzpdzlgAgNUUOYTyNklNSY/anrJ9wPYVK+9ke7/thu1Gs9kssDkAwFJFAt4r6VpJD0XEkKT/SLpv5Z0iYjwi6hFRr9VqBTYHAFiqSMBnJc1GxJHW7UNaDDoAYB10HfCI+Kukl2yf/8v1eyQ9X8pUAIBVFT0L5QuSDrbOQHlB0t3FRwIAtKNQwCPiGUn1ckYBAHSCKzEBICkCDgBJEXAASIqAA0BSBBwAkiLgAJAUAQeApAg4ACRFwAEgKQIOAEkRcABIioADQFIEHACSIuAAkBQBB4CkCDgAJEXAASApAg4ASRFwAEiKgANAUgQcAJIi4ACQFAEHgKQIOAAkVTjgtntsT9n+YRkDAQDaU8Yz8HslTZfwOACADhQKuO3dkj4i6UA54wAA2lX0Gfi3JH1F0v8udQfb+203bDeazWbBzQEAzus64LZvkXQqIo5e7n4RMR4R9Yio12q1bjcHAFihyDPwGyR9zPafJX1P0o22v1vKVACAVXUd8IgYjYjdETEg6TZJP4uIO0qbDABwWZwHDgBJ9ZbxIBHxC0m/KOOxAADt4Rk4ACRFwAEgKQIOAEkRcABIioADQFIEHACSIuAAkBQBB4CkCDgAJEXAASApAg4ASRFwAEiKgANAUgQcAJIi4ACQFAEHgKQIOAAkRcABICkCDgBJEXAASIqAA0BSBBwAkiLgAJAUAQeApLoOuO2rbP/c9rTt52zfW+ZgAIDL6y3wvWclfTkijtl+vaSjtp+KiOdLmg0AcBldPwOPiJMRcaz1+b8lTUvqL2swAMDllXIM3PaApCFJRy7ytf22G7YbzWazjM0BAFRCwG2/TtL3JX0xIv618usRMR4R9Yio12q1opsDALQUCrjtbVqM98GImChnJABAO4qchWJJD0uajohvljcSAKAdRZ6B3yDpTkk32n6m9e/DJc0FAFhF16cRRsSvJLnEWQAAHeBKTABIioADQFIEHACSIuAAkBQBB4CkCDgAJEXAASApAg4ASRFwAEiKgANAUgQcAJIi4ACQFAEHgKQIOAAkRcABICkCDgBJEXAASIqAA0BSBBwAkiLgAJAUAQeApAg4ACRFwAEgKQIOAEn1Fvlm23slPSipR9KBiHiglKmWODw1p7HJGZ2YX9CuHX0aGR7UvqH+sjcDAOl0HXDbPZK+LelmSbOSnrb9REQ8X9Zwh6fmNDpxXAtnzkmS5uYXNDpxXJKIOIAtr8ghlPdK+kNEvBARpyV9T9Kt5Yy1aGxy5uV4n7dw5pzGJmfK3AwApFQk4P2SXlpye7a1tozt/bYbthvNZrOjDZyYX+hoHQC2kiIB90XW4oKFiPGIqEdEvVardbSBXTv6OloHgK2kSMBnJV215PZuSSeKjbPcyPCg+rb1LFvr29ajkeHBMjcDACkVOQvlaUlvt321pDlJt0n6RClTtZx/oZKzUADgQl0HPCLO2v68pEktnkb4SEQ8V9pkLfuG+gk2AFxEofPAI+JHkn5U0iwAgA5wJSYAJEXAASApAg4ASRFwAEjKERdce7N2G7Obkv7S5bfvlPT3EsfJjv3xCvbFcuyP5TbD/nhrRFxwJeS6BrwI242IqFc9x0bB/ngF+2I59sdym3l/cAgFAJIi4ACQVKaAj1c9wAbD/ngF+2I59sdym3Z/pDkGDgBYLtMzcADAEgQcAJJKEXDbe23P2P6D7fuqnqcqtq+y/XPb07afs31v1TNtBLZ7bE/Z/mHVs1TN9g7bh2z/tvX/5H1Vz1QV219q/Zw8a/tx26+teqaybfiAL3nz5A9Jepek222/q9qpKnNW0pcj4p2SrpP0uS28L5a6V9J01UNsEA9K+klEvEPSe7RF94vtfkn3SKpHxDVa/JPXt1U7Vfk2fMC1Dm+enEVEnIyIY63P/63FH84t/cfSbe+W9BFJB6qepWq23yDp/ZIelqSIOB0R85UOVa1eSX22eyVtV8nvGLYRZAh4W2+evNXYHpA0JOlIxaNU7VuSviLpfxXPsRG8TVJT0qOtQ0oHbF9R9VBViIg5Sd+Q9KKkk5L+GRFPVjtV+TIEvK03T95KbL9O0vclfTEi/lX1PFWxfYukUxFxtOpZNoheSddKeigihiT9R9KWfM3I9pVa/E39akm7JF1h+45qpypfhoCv+ZsnZ2J7mxbjfTAiJqqep2I3SPqY7T9r8dDajba/W+1IlZqVNBsR538rO6TFoG9FN0n6U0Q0I+KMpAlJ11c8U+kyBPzlN0+2/WotvhDxRMUzVcK2tXh8czoivln1PFWLiNGI2B0RA1r8f/GziNh0z7LaFRF/lfSS7cHW0h5Jz1c4UpVelHSd7e2tn5s92oQv6BZ6T8z1sF5vnpzEDZLulHTc9jOtta+13psUkKQvSDrYerLzgqS7K56nEhFxxPYhSce0ePbWlDbhJfVcSg8ASWU4hAIAuAgCDgBJEXAASIqAA0BSBBwAkiLgAJAUAQeApP4PcXUgVEOVXNAAAAAASUVORK5CYII=\n",
      "text/plain": [
       "<Figure size 432x288 with 1 Axes>"
      ]
     },
     "metadata": {
      "needs_background": "light"
     },
     "output_type": "display_data"
    }
   ],
   "source": [
    "import matplotlib.pyplot as plt\n",
    "\n",
    "xpoint=([0,5,9])\n",
    "ypoint=([0,7,12])\n",
    "\n",
    "plt.plot(xpoint,ypoint,'o')\n",
    "plt.show()"
   ]
  },
  {
   "cell_type": "code",
   "execution_count": 18,
   "id": "10268176",
   "metadata": {},
   "outputs": [
    {
     "name": "stdout",
     "output_type": "stream",
     "text": [
      "6\n",
      "11\n"
     ]
    }
   ],
   "source": [
    "import numpy as np\n",
    "\n",
    "a = np.array([0,1,2,3,4,5,6,7,8,9])\n",
    "print(a[6])\n",
    "bc = a[5]+a[6]\n",
    "print(bc)"
   ]
  },
  {
   "cell_type": "code",
   "execution_count": 22,
   "id": "dd158970",
   "metadata": {},
   "outputs": [
    {
     "data": {
      "image/png": "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\n",
      "text/plain": [
       "<Figure size 432x288 with 1 Axes>"
      ]
     },
     "metadata": {
      "needs_background": "light"
     },
     "output_type": "display_data"
    }
   ],
   "source": [
    "import matplotlib.pyplot as plt\n",
    "\n",
    "xpnts = ([0,1,2,3,4,10])\n",
    "ypnts = ([0,4,5,6,7,20])\n",
    "\n",
    "plt.plot(xpnts,ypnts)\n",
    "\n",
    "plt.xlabel(\"Increase in units\")\n",
    "plt.ylabel(\"Profit in market\")\n",
    "\n",
    "plt.show()\n",
    "\n"
   ]
  },
  {
   "cell_type": "code",
   "execution_count": 23,
   "id": "0373adc6",
   "metadata": {},
   "outputs": [
    {
     "data": {
      "image/png": "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\n",
      "text/plain": [
       "<Figure size 432x288 with 1 Axes>"
      ]
     },
     "metadata": {
      "needs_background": "light"
     },
     "output_type": "display_data"
    }
   ],
   "source": [
    "import matplotlib.pyplot as plt\n",
    "\n",
    "xpnts = ([0,1,2,3,4,10])\n",
    "ypnts = ([0,4,5,6,7,20])\n",
    "\n",
    "plt.plot(xpnts,ypnts)\n",
    "\n",
    "plt.xlabel(\"Increase in units\")\n",
    "plt.ylabel(\"Profit in market\")\n",
    "\n",
    "plt.grid()\n",
    "plt.show()\n"
   ]
  },
  {
   "cell_type": "code",
   "execution_count": 24,
   "id": "f2a6791c",
   "metadata": {},
   "outputs": [
    {
     "data": {
      "image/png": "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\n",
      "text/plain": [
       "<Figure size 432x288 with 1 Axes>"
      ]
     },
     "metadata": {
      "needs_background": "light"
     },
     "output_type": "display_data"
    }
   ],
   "source": [
    "import matplotlib.pyplot as plt\n",
    "\n",
    "xpnts = ([0,1,2,3,4,10])\n",
    "ypnts = ([0,4,5,6,7,20])\n",
    "\n",
    "plt.plot(xpnts,ypnts)\n",
    "\n",
    "plt.title(\"Increament V/S Profits\")\n",
    "plt.xlabel(\"Increase in units\")\n",
    "plt.ylabel(\"Profit in market\")\n",
    "\n",
    "plt.show()\n"
   ]
  }
 ],
 "metadata": {
  "kernelspec": {
   "display_name": "Python 3 (ipykernel)",
   "language": "python",
   "name": "python3"
  },
  "language_info": {
   "codemirror_mode": {
    "name": "ipython",
    "version": 3
   },
   "file_extension": ".py",
   "mimetype": "text/x-python",
   "name": "python",
   "nbconvert_exporter": "python",
   "pygments_lexer": "ipython3",
   "version": "3.9.7"
  }
 },
 "nbformat": 4,
 "nbformat_minor": 5
}
