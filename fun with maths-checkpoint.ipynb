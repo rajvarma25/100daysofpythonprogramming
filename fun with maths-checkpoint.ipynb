{
 "cells": [
  {
   "cell_type": "code",
   "execution_count": 1,
   "id": "7aa06511",
   "metadata": {},
   "outputs": [
    {
     "name": "stdout",
     "output_type": "stream",
     "text": [
      "Enter the number a:1\n",
      "Enter the number b:4\n",
      "Enter the number c:4\n",
      "The roots of following quadratic equation is :-2.0,-2.0\n"
     ]
    }
   ],
   "source": [
    "import math\n",
    "\n",
    "\n",
    "\n",
    "a=int(input(\"Enter the number a:\"))\n",
    "b=int(input(\"Enter the number b:\"))\n",
    "c=int(input(\"Enter the number c:\"))\n",
    "\n",
    "dis=math.sqrt(b**2-4*a*c)\n",
    "\n",
    "r1=str((-b+dis)/2*a)\n",
    "r2=str((-b-dis)/2*a)\n",
    "\n",
    "answer=print(\"The roots of following quadratic equation is :\" +r1+\",\"+r2)"
   ]
  },
  {
   "cell_type": "code",
   "execution_count": 2,
   "id": "8c3e440d",
   "metadata": {},
   "outputs": [
    {
     "name": "stdout",
     "output_type": "stream",
     "text": [
      "Enter the number:12\n",
      "Enter the number:23\n",
      "The solution of the pythagorus theorem is:673\n"
     ]
    }
   ],
   "source": [
    "import math\n",
    "\n",
    "a = int(input(\"Enter the number:\"))\n",
    "b = int(input(\"Enter the number:\"))\n",
    "\n",
    "pyt=str(a**2+b**2)\n",
    "\n",
    "print(\"The solution of the pythagorus theorem is:\"+ pyt)"
   ]
  },
  {
   "cell_type": "code",
   "execution_count": 2,
   "id": "b0a00e80",
   "metadata": {},
   "outputs": [
    {
     "name": "stdout",
     "output_type": "stream",
     "text": [
      "150th ugly no. is  5832\n"
     ]
    }
   ],
   "source": [
    "# Python3 code to find nth ugly number\n",
    "\n",
    "# This function divides a by greatest\n",
    "# divisible power of b\n",
    "\n",
    "\n",
    "def maxDivide(a, b):\n",
    "\twhile a % b == 0:\n",
    "\t\ta = a / b\n",
    "\treturn a\n",
    "\n",
    "# Function to check if a number\n",
    "# is ugly or not\n",
    "def isUgly(no):\n",
    "\tno = maxDivide(no, 2)\n",
    "\tno = maxDivide(no, 3)\n",
    "\tno = maxDivide(no, 5)\n",
    "\treturn 1 if no == 1 else 0\n",
    "\n",
    "# Function to get the nth ugly number\n",
    "def getNthUglyNo(n):\n",
    "\ti = 1\n",
    "\t\n",
    "\t# ugly number count\n",
    "\tcount = 1\n",
    "\n",
    "\t# Check for all integers until\n",
    "\t# ugly count becomes n\n",
    "\twhile n > count:\n",
    "\t\ti += 1\n",
    "\t\tif isUgly(i):\n",
    "\t\t\tcount += 1\n",
    "\treturn i\n",
    "\n",
    "\n",
    "# Driver code\n",
    "no = getNthUglyNo(150)\n",
    "print(\"150th ugly no. is \", no)\n",
    "\n",
    "# This code is contributed by \"Sharad_Bhardwaj\".\n"
   ]
  },
  {
   "cell_type": "code",
   "execution_count": 16,
   "id": "f87ff732",
   "metadata": {},
   "outputs": [
    {
     "name": "stdout",
     "output_type": "stream",
     "text": [
      "Find the probality of 3 dice with different combination ? \n",
      "Enter the the DICE 1 number:1\n",
      "Enter the the DICE 2 number:2\n",
      "Enter the the DICE 3 number:3\n",
      "Inputs are wrong . It should be less than 6\n"
     ]
    }
   ],
   "source": [
    "\n",
    "print(\"Find the probality of 3 dice with different combination ? \")\n",
    " \n",
    "a=int(input(\"Enter the the DICE 1 number:\"))\n",
    "b=int(input(\"Enter the the DICE 2 number:\"))\n",
    "c=int(input(\"Enter the the DICE 3 number:\"))\n",
    "\n",
    "\n",
    "if (a>6,b>6,c>6):\n",
    "    print(\"Inputs are wrong . It should be less than 6\")\n",
    "    \n",
    "elif (a==b,a==c,b==c):\n",
    "    prob=(3)/6**3\n",
    "    print(prob)\n",
    "else:\n",
    "     probi=(1)/6**3\n",
    "     print(prob)    "
   ]
  },
  {
   "cell_type": "code",
   "execution_count": 51,
   "id": "73752650",
   "metadata": {},
   "outputs": [],
   "source": [
    "def dis(price, discount):\n",
    "    a=int(price*discount)\n",
    "    dis=(price)-(a/100)\n",
    "dis(100,75)    \n",
    "   "
   ]
  },
  {
   "cell_type": "code",
   "execution_count": 6,
   "id": "99a91a7a",
   "metadata": {},
   "outputs": [],
   "source": [
    "dis(100,75) "
   ]
  },
  {
   "cell_type": "code",
   "execution_count": 22,
   "id": "41f7696e",
   "metadata": {},
   "outputs": [],
   "source": [
    "a = 8\n",
    "while a < 0:\n",
    "    a = a - 1\n",
    "    print(a)"
   ]
  },
  {
   "cell_type": "code",
   "execution_count": 28,
   "id": "c48477a3",
   "metadata": {},
   "outputs": [
    {
     "name": "stdout",
     "output_type": "stream",
     "text": [
      "2\n",
      "4\n",
      "6\n",
      "8\n",
      "10\n",
      "12\n",
      "14\n",
      "16\n",
      "18\n",
      "20\n",
      "22\n",
      "24\n",
      "26\n",
      "28\n"
     ]
    }
   ],
   "source": [
    "for i in range(2,30,2):\n",
    "    print(i)"
   ]
  },
  {
   "cell_type": "code",
   "execution_count": 38,
   "id": "586568f5",
   "metadata": {},
   "outputs": [
    {
     "name": "stdout",
     "output_type": "stream",
     "text": [
      "\n",
      "1\n",
      "22\n",
      "333\n"
     ]
    }
   ],
   "source": [
    "for i in range(4):\n",
    "    for j in range(i):\n",
    "        print (i,end=\"\")\n",
    "    print()"
   ]
  },
  {
   "cell_type": "code",
   "execution_count": 46,
   "id": "542198f5",
   "metadata": {},
   "outputs": [
    {
     "name": "stdout",
     "output_type": "stream",
     "text": [
      "21\n",
      "20\n",
      "19\n",
      "18\n",
      "17\n",
      "16\n",
      "15\n",
      "14\n",
      "13\n",
      "12\n",
      "11\n",
      "10\n",
      "9\n",
      "8\n",
      "7\n",
      "6\n"
     ]
    }
   ],
   "source": [
    "i=22\n",
    "while i>6:\n",
    "    i=i-1\n",
    "    print(i)"
   ]
  },
  {
   "cell_type": "code",
   "execution_count": 3,
   "id": "c0cc653f",
   "metadata": {},
   "outputs": [
    {
     "name": "stdout",
     "output_type": "stream",
     "text": [
      "4\n",
      "3\n"
     ]
    }
   ],
   "source": [
    "i=5\n",
    "while i>3:\n",
    "    i=i-1\n",
    "    print(i)"
   ]
  },
  {
   "cell_type": "code",
   "execution_count": 6,
   "id": "9afdbaa4",
   "metadata": {},
   "outputs": [
    {
     "name": "stdout",
     "output_type": "stream",
     "text": [
      "1\n",
      "3\n",
      "5\n",
      "7\n",
      "9\n",
      "11\n",
      "13\n",
      "15\n",
      "17\n",
      "19\n"
     ]
    }
   ],
   "source": [
    "for i in range(1,20,2):\n",
    "    print(i)"
   ]
  },
  {
   "cell_type": "code",
   "execution_count": 8,
   "id": "d59d2ec9",
   "metadata": {},
   "outputs": [
    {
     "name": "stdout",
     "output_type": "stream",
     "text": [
      "1\n",
      "2\n",
      "3\n",
      "4\n",
      "5\n",
      "6\n",
      "7\n",
      "8\n",
      "9\n",
      "10\n",
      "11\n",
      "12\n",
      "13\n",
      "14\n",
      "15\n",
      "16\n",
      "17\n",
      "18\n",
      "19\n",
      "20\n"
     ]
    }
   ],
   "source": [
    "for i in range(1,21):\n",
    "    print(i)"
   ]
  },
  {
   "cell_type": "code",
   "execution_count": 10,
   "id": "de802950",
   "metadata": {},
   "outputs": [
    {
     "name": "stdout",
     "output_type": "stream",
     "text": [
      "\n",
      "1\n",
      "22\n",
      "333\n",
      "4444\n",
      "55555\n",
      "666666\n",
      "7777777\n",
      "88888888\n",
      "999999999\n",
      "10101010101010101010\n",
      "1111111111111111111111\n",
      "121212121212121212121212\n",
      "13131313131313131313131313\n",
      "1414141414141414141414141414\n",
      "151515151515151515151515151515\n",
      "16161616161616161616161616161616\n",
      "1717171717171717171717171717171717\n",
      "181818181818181818181818181818181818\n",
      "19191919191919191919191919191919191919\n",
      "2020202020202020202020202020202020202020\n",
      "212121212121212121212121212121212121212121\n",
      "22222222222222222222222222222222222222222222\n",
      "2323232323232323232323232323232323232323232323\n",
      "242424242424242424242424242424242424242424242424\n",
      "25252525252525252525252525252525252525252525252525\n",
      "2626262626262626262626262626262626262626262626262626\n",
      "272727272727272727272727272727272727272727272727272727\n",
      "28282828282828282828282828282828282828282828282828282828\n",
      "2929292929292929292929292929292929292929292929292929292929\n",
      "303030303030303030303030303030303030303030303030303030303030\n",
      "31313131313131313131313131313131313131313131313131313131313131\n",
      "3232323232323232323232323232323232323232323232323232323232323232\n",
      "333333333333333333333333333333333333333333333333333333333333333333\n",
      "34343434343434343434343434343434343434343434343434343434343434343434\n",
      "3535353535353535353535353535353535353535353535353535353535353535353535\n",
      "363636363636363636363636363636363636363636363636363636363636363636363636\n",
      "37373737373737373737373737373737373737373737373737373737373737373737373737\n",
      "3838383838383838383838383838383838383838383838383838383838383838383838383838\n",
      "393939393939393939393939393939393939393939393939393939393939393939393939393939\n",
      "40404040404040404040404040404040404040404040404040404040404040404040404040404040\n",
      "4141414141414141414141414141414141414141414141414141414141414141414141414141414141\n",
      "424242424242424242424242424242424242424242424242424242424242424242424242424242424242\n",
      "43434343434343434343434343434343434343434343434343434343434343434343434343434343434343\n",
      "4444444444444444444444444444444444444444444444444444444444444444444444444444444444444444\n",
      "454545454545454545454545454545454545454545454545454545454545454545454545454545454545454545\n",
      "46464646464646464646464646464646464646464646464646464646464646464646464646464646464646464646\n",
      "4747474747474747474747474747474747474747474747474747474747474747474747474747474747474747474747\n",
      "484848484848484848484848484848484848484848484848484848484848484848484848484848484848484848484848\n",
      "49494949494949494949494949494949494949494949494949494949494949494949494949494949494949494949494949\n"
     ]
    }
   ],
   "source": [
    "for i in range(50):\n",
    "    for j in range(i):\n",
    "        print(i,end=\"\")\n",
    "    print()    "
   ]
  },
  {
   "cell_type": "code",
   "execution_count": 14,
   "id": "3a5b18b0",
   "metadata": {},
   "outputs": [
    {
     "name": "stdout",
     "output_type": "stream",
     "text": [
      "[22.5, 't', 54.6, 'v', 67.8]\n",
      "['r']\n",
      "[67.8]\n",
      "['r', 22.5, 't', 54.6, 'v']\n",
      "['t', 54.6, 'v', 67.8]\n",
      "['r', 22.5]\n",
      "['v', 67.8]\n",
      "['r', 22.5, 't', 54.6]\n",
      "[22.5]\n",
      "[]\n",
      "[]\n",
      "['v']\n"
     ]
    }
   ],
   "source": [
    "a = [\"r\",22.5,\"t\",54.6,\"v\",67.8]\n",
    "print(a[1:])\n",
    "print(a[:1])\n",
    "print(a[-1:])\n",
    "print(a[:-1])\n",
    "print(a[2:])\n",
    "print(a[:2])\n",
    "print(a[-2:])\n",
    "print(a[:-2])\n",
    "print(a[1:2])\n",
    "print(a[2:1])\n",
    "print(a[-1:-2])\n",
    "print(a[-2:-1])"
   ]
  },
  {
   "cell_type": "code",
   "execution_count": 19,
   "id": "c558b3b6",
   "metadata": {},
   "outputs": [
    {
     "name": "stdout",
     "output_type": "stream",
     "text": [
      "\n",
      "1\n",
      "2222\n",
      "333333333\n",
      "4444444444444444\n",
      "5555555555555555555555555\n"
     ]
    }
   ],
   "source": [
    "for i in range(6):\n",
    "    for j in range(i):\n",
    "        for k in range(i):\n",
    "            print(i,end=\"\")\n",
    "    print()    "
   ]
  },
  {
   "cell_type": "code",
   "execution_count": 30,
   "id": "0da405a5",
   "metadata": {},
   "outputs": [
    {
     "name": "stdout",
     "output_type": "stream",
     "text": [
      "[1, 2, 3, 4, 5, 6, 7, 8, 9]\n",
      "<class 'list'>\n",
      "[1, 2, 3, 4, 5, 6, 7, 8, 9, 25, 'i love you']\n",
      "0\n",
      "1\n",
      "2\n",
      "3\n",
      "4\n",
      "9\n",
      "8\n",
      "7\n",
      "6\n",
      "5\n"
     ]
    }
   ],
   "source": [
    "i=[1,2,3,4,5,6,7,8,9]\n",
    "print(i)\n",
    "add=i+[25]+[\"i love you\"]\n",
    "t=type(i)\n",
    "print(t)\n",
    "print(add)\n",
    "for i in range(5):\n",
    "    print(i)\n",
    "i=10\n",
    "while i>5:\n",
    "    i -= 1\n",
    "    print(i)"
   ]
  },
  {
   "cell_type": "code",
   "execution_count": 1,
   "id": "2b099f32",
   "metadata": {},
   "outputs": [
    {
     "name": "stdout",
     "output_type": "stream",
     "text": [
      "The new created array is :  "
     ]
    }
   ],
   "source": [
    "import array as arr\n",
    "\n",
    "a = arr.array('i',[1,2,3])\n",
    "\n",
    "print (\"The new created array is : \", end =\" \")"
   ]
  },
  {
   "cell_type": "code",
   "execution_count": 5,
   "id": "28f48d18",
   "metadata": {},
   "outputs": [
    {
     "name": "stdout",
     "output_type": "stream",
     "text": [
      "The new created array is :  1 2 3 "
     ]
    }
   ],
   "source": [
    "import array as arr\n",
    "\n",
    "a = arr.array('i',[1,2,3])\n",
    "\n",
    "print (\"The new created array is : \", end =\" \")\n",
    "\n",
    "for i in range (0, 3):\n",
    "    print (a[i], end =\" \")\n"
   ]
  },
  {
   "cell_type": "code",
   "execution_count": 13,
   "id": "591ff345",
   "metadata": {},
   "outputs": [
    {
     "name": "stdout",
     "output_type": "stream",
     "text": [
      "The new created array is :  1 2 3 4 "
     ]
    }
   ],
   "source": [
    "import array as arr\n",
    "\n",
    "a = arr.array('i',[1,2,3,4,5,6])\n",
    "\n",
    "print (\"The new created array is : \", end =\" \")\n",
    "\n",
    "for i in range (0, 4):\n",
    "    print (a[i], end =\" \")"
   ]
  },
  {
   "cell_type": "code",
   "execution_count": 24,
   "id": "7444f699",
   "metadata": {},
   "outputs": [
    {
     "name": "stdout",
     "output_type": "stream",
     "text": [
      "the new created array is :  12345\n",
      "1 12 2 3 4 5 6 7 8 9 \n",
      "1 12 2 3 4 5 6 7 8 9 13 \n"
     ]
    }
   ],
   "source": [
    "import array as arr\n",
    "\n",
    "a = arr.array('i',[1,2,3,4,5,6,7,8,9])\n",
    "\n",
    "print(\"the new created array is : \",end =\" \")\n",
    "\n",
    "for i in range (0,5):\n",
    "    print (a[i],end=\"\")\n",
    "print()    \n",
    "a.insert(1,12)\n",
    "for i in (a):\n",
    "    print(i,end=\" \")\n",
    "print()\n",
    "a.append(13)\n",
    "for i in (a):\n",
    "    print(i,end=\" \")\n",
    "print()    "
   ]
  },
  {
   "cell_type": "code",
   "execution_count": 19,
   "id": "174a840b",
   "metadata": {},
   "outputs": [
    {
     "name": "stdout",
     "output_type": "stream",
     "text": [
      "The selected array is: 1\n",
      "All elements of array: 123\r\n",
      "the popped element:3\n",
      "the array element is removed: 2 4 5 6 7 8 2 4 23 5 6 7 8 9 \n"
     ]
    }
   ],
   "source": [
    "import array as arr\n",
    "\n",
    "a = arr.array('i',[1,2,3,4,5,6,7,8,9])\n",
    "\n",
    "print(\"The selected array is:\",a[0])\n",
    "\n",
    "print(\"All elements of array:\",end =\" \")\n",
    "\n",
    "for i in range(0,3):\n",
    "    print(a[i],end=\"\")\n",
    "print(\"\\r\")    \n",
    "\n",
    "#showing special element by popping\n",
    "\n",
    "print(\"the popped element:\",end=\"\")\n",
    "print(a.pop(2))\n",
    "\n",
    "#removing one element from array\n",
    "a.remove(1)\n",
    "print(\"the array element is removed:\",end=\" \")\n",
    "for i in range(0,6):\n",
    "    print(a[i],end=\" \")\n",
    "\n",
    "\n",
    "#inserting of element\n",
    "a.insert(2,23)\n",
    "\n",
    "print(\"The \")\n",
    "for i in (a):\n",
    "    print(i,end=\" \")\n",
    "print()    \n",
    "\n"
   ]
  },
  {
   "cell_type": "code",
   "execution_count": 18,
   "id": "e0e12724",
   "metadata": {},
   "outputs": [
    {
     "name": "stdout",
     "output_type": "stream",
     "text": [
      "57.3\n"
     ]
    },
    {
     "data": {
      "text/plain": [
       "2865.0"
      ]
     },
     "execution_count": 18,
     "metadata": {},
     "output_type": "execute_result"
    }
   ],
   "source": [
    "from math import pi\n",
    "\n",
    "picon = round((180/pi),1)\n",
    "print(picon)\n",
    "\n",
    "def rad_deg(rad):\n",
    "    return rad*picon\n",
    "    \n",
    "rad_deg(50)    "
   ]
  },
  {
   "cell_type": "code",
   "execution_count": 6,
   "id": "2afddecb",
   "metadata": {},
   "outputs": [
    {
     "name": "stdout",
     "output_type": "stream",
     "text": [
      "Array created using passed list:\n",
      " [[1. 2. 4.]\n",
      " [5. 8. 7.]]\n",
      "Array dimession of list: 2\n"
     ]
    }
   ],
   "source": [
    "import numpy\n",
    "  \n",
    "# Creating array from list with type float\n",
    "a = numpy.array([[1, 2, 4], [5, 8, 7]], dtype = 'float')\n",
    "print (\"Array created using passed list:\\n\", a)\n",
    "ab = numpy.ndim(a)\n",
    "print(\"Array dimession of list:\", ab)"
   ]
  },
  {
   "cell_type": "code",
   "execution_count": 3,
   "id": "1877885f",
   "metadata": {},
   "outputs": [
    {
     "data": {
      "image/png": "[encoded data removed]",
      "text/plain": [
       "<Figure size 432x288 with 1 Axes>"
      ]
     },
     "metadata": {
      "needs_background": "light"
     },
     "output_type": "display_data"
    }
   ],
   "source": [
    "import matplotlib.pyplot as plt\n",
    "import numpy as np\n",
    "\n",
    "xpoints = np.array([0,2,3,4,6])\n",
    "ypoints = np.array([0,25,50,100, 250])\n",
    "\n",
    "plt.plot(xpoints, ypoints)\n",
    "plt.show()"
   ]
  },
  {
   "cell_type": "code",
   "execution_count": 10,
   "id": "cf14f9e1",
   "metadata": {},
   "outputs": [
    {
     "data": {
      "image/png": "[encoded data removed]",
      "text/plain": [
       "<Figure size 432x288 with 1 Axes>"
      ]
     },
     "metadata": {
      "needs_background": "light"
     },
     "output_type": "display_data"
    }
   ],
   "source": [
    "import matplotlib.pyplot as plt\n",
    "\n",
    "xpoint=([0,5,9])\n",
    "ypoint=([0,7,12])\n",
    "\n",
    "plt.plot(xpoint,ypoint,'o')\n",
    "plt.show()"
   ]
  },
  {
   "cell_type": "code",
   "execution_count": 18,
   "id": "aa18a039",
   "metadata": {},
   "outputs": [
    {
     "name": "stdout",
     "output_type": "stream",
     "text": [
      "6\n",
      "11\n"
     ]
    }
   ],
   "source": [
    "import numpy as np\n",
    "\n",
    "a = np.array([0,1,2,3,4,5,6,7,8,9])\n",
    "print(a[6])\n",
    "bc = a[5]+a[6]\n",
    "print(bc)"
   ]
  },
  {
   "cell_type": "code",
   "execution_count": 21,
   "id": "f0b98cae",
   "metadata": {},
   "outputs": [
    {
     "data": {
      "image/png": "[encoded data removed]",
      "text/plain": [
       "<Figure size 432x288 with 1 Axes>"
      ]
     },
     "metadata": {
      "needs_background": "light"
     },
     "output_type": "display_data"
    }
   ],
   "source": [
    "import matplotlib.pyplot as plt\n",
    "\n",
    "xpnts = ([0,1,2,3,4,10])\n",
    "ypnts = ([0,4,5,6,7,20])\n",
    "\n",
    "plt.plot(xpnts,ypnts)\n",
    "plt.show()\n",
    "\n"
   ]
  }
 ],
 "metadata": {
  "kernelspec": {
   "display_name": "Python 3 (ipykernel)",
   "language": "python",
   "name": "python3"
  },
  "language_info": {
   "codemirror_mode": {
    "name": "ipython",
    "version": 3
   },
   "file_extension": ".py",
   "mimetype": "text/x-python",
   "name": "python",
   "nbconvert_exporter": "python",
   "pygments_lexer": "ipython3",
   "version": "3.9.7"
  }
 },
 "nbformat": 4,
 "nbformat_minor": 5
}
